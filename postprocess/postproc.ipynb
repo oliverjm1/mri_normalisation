{
 "cells": [
  {
   "cell_type": "markdown",
   "metadata": {},
   "source": [
    "# Post-processing of nnUNet predictions of SKM-TEA data\n",
    "## First check connected components"
   ]
  },
  {
   "cell_type": "code",
   "execution_count": null,
   "metadata": {},
   "outputs": [],
   "source": [
    "# imports\n",
    "import cc3d\n",
    "import json\n",
    "import os\n",
    "import numpy as np\n",
    "import pandas as pd\n",
    "import matplotlib.pyplot as plt\n",
    "import seaborn as sns\n",
    "import SimpleITK as sitk"
   ]
  },
  {
   "cell_type": "code",
   "execution_count": null,
   "metadata": {},
   "outputs": [],
   "source": [
    "from acvl_utils.morphology.morphology_helper import generic_filter_components, remove_components_cc3d, cc3d_label_with_component_sizes"
   ]
  },
  {
   "cell_type": "code",
   "execution_count": null,
   "metadata": {},
   "outputs": [],
   "source": [
    "# data directory path\n",
    "nnunet_data_dir = '../../data/nnUNet_raw/Dataset361_Menisci/'"
   ]
  },
  {
   "cell_type": "code",
   "execution_count": null,
   "metadata": {},
   "outputs": [],
   "source": [
    "# Let's look at the ground truth data\n",
    "# path to ground truth data\n",
    "gt_path = nnunet_data_dir + 'labels_all_skmtea/'\n",
    "im_path = nnunet_data_dir + 'images_all_skmtea/'\n",
    "pred_path = nnunet_data_dir + 'zscore_preds_all_skmtea/'"
   ]
  },
  {
   "cell_type": "code",
   "execution_count": null,
   "metadata": {},
   "outputs": [],
   "source": [
    "# get list of files in the directory\n",
    "gt_files = os.listdir(gt_path)\n",
    "gt_files.sort()\n",
    "gt_files[:5]"
   ]
  },
  {
   "cell_type": "code",
   "execution_count": null,
   "metadata": {},
   "outputs": [],
   "source": [
    "im_files = os.listdir(im_path)\n",
    "im_files.sort()\n",
    "im_files[:5]"
   ]
  },
  {
   "cell_type": "code",
   "execution_count": null,
   "metadata": {},
   "outputs": [],
   "source": [
    "pred_files = os.listdir(pred_path)\n",
    "pred_files.sort()\n",
    "pred_files[:5]"
   ]
  },
  {
   "cell_type": "code",
   "execution_count": null,
   "metadata": {},
   "outputs": [],
   "source": [
    "# load in each image, and return labels and properties\n",
    "smallest_components = []\n",
    "\n",
    "for file in gt_files:\n",
    "    # load in the image\n",
    "    gt = sitk.ReadImage(gt_path + file)\n",
    "    gt = sitk.GetArrayFromImage(gt)\n",
    "    # get the properties of the image before and after removing components\n",
    "    labels, props = cc3d_label_with_component_sizes(gt, connectivity=26)\n",
    "    labels_filtered, props_filtered = cc3d_label_with_component_sizes(remove_components_cc3d(gt, 100, threshold_type='min', connectivity=26), connectivity=26)\n",
    "\n",
    "    \"\"\"\n",
    "    # print the properties\n",
    "    if len(props) > 2:\n",
    "        print(f'File: {file}')\n",
    "        print(f'Number of components before: {len(props)}')\n",
    "        print(f'Number of components after: {len(props_filtered)}')\n",
    "        print(f'Properties before: {props}')\n",
    "        print(f'Properties after: {props_filtered}')\n",
    "        print('----------------------------------------')\"\"\"\n",
    "    \n",
    "    # cycle through props dictionary and print smallest component\n",
    "    smallest_components.append(min(list(props_filtered.values())))"
   ]
  },
  {
   "cell_type": "code",
   "execution_count": null,
   "metadata": {},
   "outputs": [],
   "source": [
    "# print smallest components\n",
    "for i, comp in enumerate(smallest_components):\n",
    "        print(i, comp)"
   ]
  },
  {
   "cell_type": "code",
   "execution_count": null,
   "metadata": {},
   "outputs": [],
   "source": [
    "# load in each image, and return labels and properties\n",
    "smallest_pred_components = []\n",
    "\n",
    "for file in pred_files:\n",
    "    # load in the image\n",
    "    pred = sitk.ReadImage(pred_path + file)\n",
    "    pred = sitk.GetArrayFromImage(pred)\n",
    "    # get the properties of the image before and after removing components\n",
    "    labels, props = cc3d_label_with_component_sizes(gt, connectivity=26)\n",
    "    labels_filtered, props_filtered = cc3d_label_with_component_sizes(remove_components_cc3d(pred, 100, threshold_type='min', connectivity=26), connectivity=26)\n",
    "\n",
    "    \"\"\"\n",
    "    # print the properties\n",
    "    if len(props) > 2:\n",
    "        print(f'File: {file}')\n",
    "        print(f'Number of components before: {len(props)}')\n",
    "        print(f'Number of components after: {len(props_filtered)}')\n",
    "        print(f'Properties before: {props}')\n",
    "        print(f'Properties after: {props_filtered}')\n",
    "        print('----------------------------------------')\"\"\"\n",
    "    \n",
    "    # cycle through props dictionary and print smallest component\n",
    "    smallest_pred_components.append(min(list(props_filtered.values())))"
   ]
  },
  {
   "cell_type": "code",
   "execution_count": null,
   "metadata": {},
   "outputs": [],
   "source": [
    "# print smallest components\n",
    "for i, comp in enumerate(smallest_pred_components):\n",
    "        print(i, comp)"
   ]
  },
  {
   "cell_type": "code",
   "execution_count": null,
   "metadata": {},
   "outputs": [],
   "source": [
    "# Pick a file to look at\n",
    "file = pred_files[8]\n",
    "\n",
    "# load in the image\n",
    "gt = sitk.ReadImage(pred_path + file)\n",
    "gt = sitk.GetArrayFromImage(gt)\n",
    "\n",
    "# get the labels and properties\n",
    "labels, props = cc3d_label_with_component_sizes(gt, connectivity=26)\n",
    "\n",
    "# print the properties\n",
    "print(f\"File {file} has {len(props)} components: {props}\")\n",
    "\n",
    "# plot the labels (mask with 1 for first component, 2 for second etc)\n",
    "plt.figure(figsize=(10, 10))\n",
    "plt.imshow(np.sum(gt, axis=1))\n",
    "plt.title(file)\n",
    "plt.show()"
   ]
  },
  {
   "cell_type": "code",
   "execution_count": null,
   "metadata": {},
   "outputs": [],
   "source": [
    "# Let's look at the image\n",
    "# load in the image\n",
    "im = sitk.ReadImage(im_path + im_files[52])\n",
    "im = sitk.GetArrayFromImage(im)\n",
    "\n",
    "# plot the image and mask side by side\n",
    "plt.figure(figsize=(10, 10))\n",
    "plt.subplot(1, 2, 1)\n",
    "plt.imshow(im[40,...])\n",
    "plt.title('Image')\n",
    "plt.subplot(1, 2, 2)\n",
    "plt.imshow(gt[40,...])\n",
    "plt.title('Mask')\n",
    "plt.show()"
   ]
  },
  {
   "cell_type": "code",
   "execution_count": null,
   "metadata": {},
   "outputs": [],
   "source": [
    "# damn, cropped too low. Will need to correct and re-predict :("
   ]
  },
  {
   "cell_type": "code",
   "execution_count": null,
   "metadata": {},
   "outputs": [],
   "source": []
  }
 ],
 "metadata": {
  "kernelspec": {
   "display_name": "base",
   "language": "python",
   "name": "python3"
  },
  "language_info": {
   "codemirror_mode": {
    "name": "ipython",
    "version": 3
   },
   "file_extension": ".py",
   "mimetype": "text/x-python",
   "name": "python",
   "nbconvert_exporter": "python",
   "pygments_lexer": "ipython3",
   "version": "3.9.18"
  }
 },
 "nbformat": 4,
 "nbformat_minor": 2
}
