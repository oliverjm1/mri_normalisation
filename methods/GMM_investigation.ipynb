{
 "cells": [
  {
   "cell_type": "markdown",
   "metadata": {},
   "source": [
    "# Notebook to investigate creating own MRI preprocessing akin to White Stripe Norm [Shinohara]"
   ]
  },
  {
   "cell_type": "code",
   "execution_count": null,
   "metadata": {},
   "outputs": [],
   "source": [
    "# imports\n",
    "import numpy as np\n",
    "import matplotlib.pyplot as plt\n",
    "import seaborn as sns\n",
    "import os\n",
    "import SimpleITK as sitk\n",
    "import glob\n",
    "import pandas as pd\n",
    "import sys\n",
    "import torchio as tio\n",
    "from scipy import stats\n",
    "from sklearn.mixture import GaussianMixture\n",
    "from tqdm import tqdm"
   ]
  },
  {
   "cell_type": "markdown",
   "metadata": {},
   "source": [
    "## Load test OAI image"
   ]
  },
  {
   "cell_type": "code",
   "execution_count": null,
   "metadata": {},
   "outputs": [],
   "source": [
    "raw_data_path = '../nnUNet_data/nnUNet_raw/Dataset361_Menisci/imagesTr/'\n",
    "\n",
    "files = glob.glob(raw_data_path + '*')"
   ]
  },
  {
   "cell_type": "code",
   "execution_count": null,
   "metadata": {},
   "outputs": [],
   "source": [
    "files.sort()\n",
    "print('Number of files:', len(files))\n",
    "files[:5]"
   ]
  },
  {
   "cell_type": "markdown",
   "metadata": {},
   "source": [
    "### Plot the intensity histogram of this image"
   ]
  },
  {
   "cell_type": "code",
   "execution_count": null,
   "metadata": {},
   "outputs": [],
   "source": [
    "def plot_histogram(axis, values, num_positions=100, label=None, alpha=0.05, color=None, lw=1):\n",
    "    kernel = stats.gaussian_kde(values)\n",
    "    positions = np.linspace(values.min(), values.max(), num=num_positions)\n",
    "    histogram = kernel(positions)\n",
    "    kwargs = dict(linewidth=lw, color='black' if color is None else color, alpha=alpha)\n",
    "    if label is not None:\n",
    "        kwargs['label'] = label\n",
    "    axis.plot(positions, histogram, **kwargs)"
   ]
  },
  {
   "cell_type": "code",
   "execution_count": null,
   "metadata": {},
   "outputs": [],
   "source": [
    "# read in first file (.nii.gz)\n",
    "image = sitk.ReadImage(files[0])\n",
    "image_array = sitk.GetArrayFromImage(image)\n",
    "\n",
    "fig, ax = plt.subplots()\n",
    "plot_histogram(ax, image_array.ravel(), alpha=1, color='blue', lw=2)"
   ]
  },
  {
   "cell_type": "markdown",
   "metadata": {},
   "source": [
    "## Have a go at fitting GMM to this intensity, trying different component numbers"
   ]
  },
  {
   "cell_type": "code",
   "execution_count": null,
   "metadata": {},
   "outputs": [],
   "source": [
    "# fit GMM to the data\n",
    "\n",
    "# Extract nonzero intensities (ignore background)\n",
    "intensities = image_array[image_array > 0].flatten()\n",
    "\n",
    "# normalise\n",
    "intensities = (intensities - np.min(intensities)) / (np.max(intensities) - np.min(intensities))\n",
    "\n",
    "# Try different numbers of components\n",
    "n_components_range = range(1, 10)\n",
    "bics, aics, LL = [], [], []\n",
    "\n",
    "for n in tqdm(n_components_range):\n",
    "    gmm = GaussianMixture(n_components=n, random_state=42)\n",
    "    gmm.fit(intensities.reshape(-1, 1))\n",
    "    \n",
    "    bics.append(gmm.bic(intensities.reshape(-1, 1)))\n",
    "    aics.append(gmm.aic(intensities.reshape(-1, 1)))\n",
    "    LL.append(gmm.score(intensities.reshape(-1, 1)))\n",
    "\n",
    "# Plot BIC and AIC scores\n",
    "plt.figure(figsize=(8, 5))\n",
    "plt.plot(n_components_range, bics, label=\"BIC\", marker=\"o\")\n",
    "plt.plot(n_components_range, aics, label=\"AIC\", marker=\"s\")\n",
    "plt.xlabel(\"Number of Components\")\n",
    "plt.ylabel(\"Score\")\n",
    "plt.legend()\n",
    "plt.title(\"BIC and AIC for GMM Component Selection\")\n",
    "plt.tight_layout()\n",
    "plt.savefig('GMM_BIC_AIC.pdf', format='pdf')\n",
    "plt.show()\n",
    "\n",
    "# Plot log-likelihood\n",
    "plt.figure(figsize=(8, 5))\n",
    "plt.plot(n_components_range, LL, label=\"Log-Likelihood\", marker=\"o\")\n",
    "plt.xlabel(\"Number of Components\")\n",
    "plt.ylabel(\"Log-Likelihood\")\n",
    "plt.title(\"Log-Likelihood for GMM Component Selection\")\n",
    "plt.tight_layout()\n",
    "plt.savefig('GMM_LL.pdf', format='pdf')\n",
    "plt.show()\n"
   ]
  },
  {
   "cell_type": "code",
   "execution_count": null,
   "metadata": {},
   "outputs": [],
   "source": [
    "# read in file\n",
    "image = sitk.ReadImage(files[0])\n",
    "image_array = sitk.GetArrayFromImage(image)\n",
    "\n",
    "# Extract nonzero intensities (ignore background)\n",
    "intensities = image_array[image_array > 0].flatten()\n",
    "\n",
    "# normalise the data\n",
    "intensities = (intensities - np.min(intensities)) / (np.max(intensities) - np.min(intensities))\n",
    "\n",
    "np.random.seed(42)\n",
    "intensities = np.random.choice(intensities, 100000)\n",
    "\n",
    "# Fit GMM with 4 components\n",
    "n_components = 4  # Adjust based on expected tissue classes\n",
    "gmm = GaussianMixture(n_components=n_components)\n",
    "gmm.fit(intensities.reshape(-1, 1))\n",
    "\n",
    "# Get Gaussian means (intensity peaks)\n",
    "intensity_peaks = np.sort(gmm.means_.flatten())\n",
    "print(\"Identified Intensity Peaks:\", intensity_peaks)\n",
    "\n",
    "# Extract parameters\n",
    "means = gmm.means_.flatten()\n",
    "stds = np.sqrt(gmm.covariances_).flatten()  # Standard deviation from variance\n",
    "weights = gmm.weights_\n",
    "\n",
    "# Plot Histogram with GMM Components\n",
    "plt.figure(figsize=(10, 5))\n",
    "plt.hist(intensities, bins=100, density=True, alpha=0.6, color=\"gray\", label=\"Intensity Histogram\")\n",
    "\n",
    "# Plot Histogram as a KDE\n",
    "#plot_histogram(plt.gca(), intensities, alpha=1, color=\"black\", lw=2)\n",
    "\n",
    "# Generate smooth curve for GMM\n",
    "x = np.linspace(intensities.min(), intensities.max(), 1000)\n",
    "gmm_pdf = np.exp(gmm.score_samples(x.reshape(-1, 1)))\n",
    "plt.plot(x, gmm_pdf, label=\"GMM Fit\", color=\"red\", linestyle=\"dashed\", linewidth=2)\n",
    "\n",
    "# Compute individual Gaussian components\n",
    "individual_pdfs = [\n",
    "    weights[i] * (1 / (stds[i] * np.sqrt(2 * np.pi))) * np.exp(-0.5 * ((x - means[i]) / stds[i])**2)\n",
    "    for i in range(n_components)\n",
    "]\n",
    "\n",
    "# Plot individual Gaussian components\n",
    "for i in range(n_components):\n",
    "    lw = 3 if i == 1 else 1\n",
    "    col = \"blue\" if i == 1 else \"black\"\n",
    "    plt.plot(x, individual_pdfs[i], linewidth=lw, label=f\"Component {i+1}\", color=col)\n",
    "\n",
    "# Mark identified peaks\n",
    "for peak in intensity_peaks:\n",
    "    plt.axvline(peak, color=\"black\", linestyle=\"dashed\", label=f\"Peak: {peak:.4f}\", linewidth=1.5)\n",
    "\n",
    "#plt.legend()\n",
    "#plt.title(f\"GMM-Based Intensity Peak Detection in Knee MRI (Image {j+1})\")\n",
    "plt.xlabel(\"Intensity\", fontsize=18)\n",
    "plt.ylabel(\"Density\", fontsize=18)\n",
    "\n",
    "# ticks size\n",
    "plt.yticks(fontsize=14)\n",
    "plt.xticks(fontsize=14)\n",
    "\n",
    "plt.tight_layout()\n",
    "plt.savefig('GMM_fit_example.pdf', format='pdf')\n",
    "plt.show()"
   ]
  },
  {
   "cell_type": "code",
   "execution_count": null,
   "metadata": {},
   "outputs": [],
   "source": [
    "# Reorder gmm components by mean value\n",
    "order = np.argsort(means)\n",
    "means = means[order]\n",
    "stds = stds[order]\n",
    "weights = weights[order]\n",
    "\n",
    "print(\"Ordered Intensity Peaks:\", means)\n",
    "print(\"Ordered Standard Deviations:\", stds)\n",
    "print(\"Ordered Weights:\", weights)\n",
    "\n",
    "# use 3rd peak to normalise the image\n",
    "normalisation_peak = means[2]\n",
    "\n",
    "# normalise the image\n",
    "normalised_image = intensities / normalisation_peak\n",
    "\n",
    "# plot the normalised image\n",
    "fig, ax = plt.subplots()\n",
    "plot_histogram(ax, normalised_image.ravel(), alpha=1, color='red', lw=2)"
   ]
  },
  {
   "cell_type": "code",
   "execution_count": null,
   "metadata": {},
   "outputs": [],
   "source": [
    "# write this as a function\n",
    "def GMM_norm(intensities, n_components=4, peak_index=2):\n",
    "    # extract nonzero intensities\n",
    "    intensities = intensities[intensities > 0].flatten()\n",
    "\n",
    "    # normalise the data\n",
    "    intensities = (intensities - np.min(intensities)) / (np.max(intensities) - np.min(intensities))\n",
    "\n",
    "    # Fit GMM with 3 components (assuming 3 main tissue types: bone, cartilage, muscle/fluid)\n",
    "    gmm = GaussianMixture(n_components=n_components)\n",
    "    gmm.fit(intensities.reshape(-1, 1))\n",
    "\n",
    "    # Get Gaussian means (intensity peaks)\n",
    "    intensity_peaks = np.sort(gmm.means_.flatten())\n",
    "\n",
    "    # use 3rd peak to normalise the image\n",
    "    normalisation_peak = intensity_peaks[peak_index]\n",
    "\n",
    "    # normalise the image\n",
    "    normalised = intensities / normalisation_peak\n",
    "\n",
    "    return normalised"
   ]
  },
  {
   "cell_type": "markdown",
   "metadata": {},
   "source": [
    "### Plot all the histograms for the train data before and after the transformation"
   ]
  },
  {
   "cell_type": "code",
   "execution_count": null,
   "metadata": {},
   "outputs": [],
   "source": [
    "fig, ax = plt.subplots(dpi=100)\n",
    "for path in tqdm(files):\n",
    "    tensor = tio.ScalarImage(path).data\n",
    "    values = tensor.numpy().ravel()\n",
    "\n",
    "    # get sample of values\n",
    "    sample = np.random.choice(values, 100000)\n",
    "    plot_histogram(ax, sample)\n",
    "\n",
    "ax.set_xlabel('Intensity')\n",
    "ax.set_ylabel('Density')\n",
    "ax.set_xlim(0, 0.006)\n",
    "ax.set_ylim(0, 1200)\n",
    "ax.grid()\n",
    "plt.savefig('iwoai_histograms.pdf', format='pdf', bbox_inches='tight')"
   ]
  },
  {
   "cell_type": "code",
   "execution_count": null,
   "metadata": {},
   "outputs": [],
   "source": [
    "fig, ax = plt.subplots(dpi=100)\n",
    "\n",
    "for path in tqdm(files):\n",
    "    image = sitk.ReadImage(path)\n",
    "    image_array = sitk.GetArrayFromImage(image)\n",
    "    values = image_array[image_array > 0].flatten()\n",
    "\n",
    "    # get sample of values\n",
    "    sample = np.random.choice(values, 100000)\n",
    "\n",
    "    normalised = GMM_norm(sample)\n",
    "    plot_histogram(ax, normalised)\n",
    "\n",
    "ax.set_xlabel('Intensity')\n",
    "ax.set_ylabel('Density')\n",
    "ax.set_xlim(0, 2.5)\n",
    "ax.grid()\n",
    "plt.savefig('iwoai_gmm_histograms.pdf', format='pdf', bbox_inches='tight')"
   ]
  },
  {
   "cell_type": "markdown",
   "metadata": {},
   "source": [
    "### Now let's plot SKM-TEA"
   ]
  },
  {
   "cell_type": "code",
   "execution_count": null,
   "metadata": {},
   "outputs": [],
   "source": [
    "skmtea_path = '../../../nnUNet_data/nnUNet_raw/Dataset361_Menisci/images_all_skmtea/'\n",
    "skmtea_files = glob.glob(skmtea_path + '*')"
   ]
  },
  {
   "cell_type": "code",
   "execution_count": null,
   "metadata": {},
   "outputs": [],
   "source": [
    "skmtea_files.sort()\n",
    "print('Number of files:', len(skmtea_files))\n",
    "skmtea_files[:5]"
   ]
  },
  {
   "cell_type": "code",
   "execution_count": null,
   "metadata": {},
   "outputs": [],
   "source": [
    "# plot skmtea histograms\n",
    "fig, ax = plt.subplots()\n",
    "for path in tqdm(skmtea_files):\n",
    "    image = sitk.ReadImage(path)\n",
    "    image = sitk.GetArrayFromImage(image)\n",
    "    values = image.ravel()\n",
    "\n",
    "    # get sample of values\n",
    "    sample = np.random.choice(values, 100000)\n",
    "    plot_histogram(ax, sample)\n",
    "\n",
    "ax.set_xlabel('Intensity')\n",
    "ax.set_ylabel('Density')\n",
    "ax.set_xlim(0,3000)\n",
    "ax.set_ylim(0,0.004)\n",
    "ax.grid()\n",
    "plt.savefig('skmtea_histograms.pdf', format='pdf', bbox_inches='tight')\n",
    "plt.show()"
   ]
  },
  {
   "cell_type": "code",
   "execution_count": null,
   "metadata": {},
   "outputs": [],
   "source": [
    "# plot skmtea histograms\n",
    "fig, ax = plt.subplots()\n",
    "for path in tqdm(skmtea_files):\n",
    "    image = sitk.ReadImage(path)\n",
    "    image = sitk.GetArrayFromImage(image)\n",
    "    values = image.ravel()\n",
    "\n",
    "    # get sample of values\n",
    "    sample = np.random.choice(values, 100000)\n",
    "    gmm_norm = GMM_norm(sample)\n",
    "    plot_histogram(ax, gmm_norm)\n",
    "\n",
    "ax.set_xlabel('Intensity')\n",
    "ax.set_ylabel('Density')\n",
    "ax.set_xlim(0, 2.5)\n",
    "ax.set_ylim(0, 3.5)\n",
    "\n",
    "ax.grid()\n",
    "plt.savefig('skmtea_gmm_histograms.pdf', format='pdf', bbox_inches='tight')\n",
    "plt.show()"
   ]
  }
 ],
 "metadata": {
  "kernelspec": {
   "display_name": "Python 3",
   "language": "python",
   "name": "python3"
  },
  "language_info": {
   "codemirror_mode": {
    "name": "ipython",
    "version": 3
   },
   "file_extension": ".py",
   "mimetype": "text/x-python",
   "name": "python",
   "nbconvert_exporter": "python",
   "pygments_lexer": "ipython3",
   "version": "3.10.4"
  }
 },
 "nbformat": 4,
 "nbformat_minor": 4
}
