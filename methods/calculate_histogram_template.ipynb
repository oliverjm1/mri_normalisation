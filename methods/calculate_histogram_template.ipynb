{
 "cells": [
  {
   "cell_type": "markdown",
   "metadata": {},
   "source": [
    "# Notebook to calculate an average histogram template for the training data used by nnUNet"
   ]
  },
  {
   "cell_type": "code",
   "execution_count": null,
   "metadata": {},
   "outputs": [],
   "source": [
    "# imports\n",
    "import numpy as np\n",
    "import matplotlib.pyplot as plt\n",
    "import seaborn as sns\n",
    "import os\n",
    "import SimpleITK as sitk\n",
    "import glob\n",
    "import pandas as pd\n",
    "import sys\n",
    "import torchio as tio\n",
    "from scipy import stats\n",
    "from tqdm import tqdm\n",
    "sys.path.append('../..')\n",
    "from src.skmtea_utils import *"
   ]
  },
  {
   "cell_type": "markdown",
   "metadata": {},
   "source": [
    "## Nyul Method First"
   ]
  },
  {
   "cell_type": "code",
   "execution_count": null,
   "metadata": {},
   "outputs": [],
   "source": [
    "raw_data_path = '../../../nnUNet_data/nnUNet_raw/Dataset361_Menisci/imagesTr/'\n",
    "save_path = '../../../nnUNet_data/nnUNet_preprocessed/Dataset361_Menisci/'\n",
    "\n",
    "files = glob.glob(raw_data_path + '*')"
   ]
  },
  {
   "cell_type": "code",
   "execution_count": null,
   "metadata": {},
   "outputs": [],
   "source": [
    "files.sort()\n",
    "print('Number of files:', len(files))\n",
    "files[:5]"
   ]
  },
  {
   "cell_type": "code",
   "execution_count": null,
   "metadata": {},
   "outputs": [],
   "source": [
    "# compute Nyul landmarks of the training set\n",
    "#landmarks = tio.transforms.HistogramStandardization.train(files, cutoff=(0, 99.8/100), output_path=save_path + 'nyul_landmarks.npy')"
   ]
  },
  {
   "cell_type": "code",
   "execution_count": null,
   "metadata": {},
   "outputs": [],
   "source": [
    "# load landmarks\n",
    "landmarks = np.load(save_path + 'nyul_landmarks.npy')"
   ]
  },
  {
   "cell_type": "code",
   "execution_count": null,
   "metadata": {},
   "outputs": [],
   "source": [
    "landmarks"
   ]
  },
  {
   "cell_type": "markdown",
   "metadata": {},
   "source": [
    "### Have a go at transforming one image"
   ]
  },
  {
   "cell_type": "code",
   "execution_count": null,
   "metadata": {},
   "outputs": [],
   "source": [
    "subjects = []\n",
    "\n",
    "for image_path in files:\n",
    "    subject = tio.Subject(\n",
    "        mri=tio.ScalarImage(image_path),\n",
    "    )\n",
    "    subjects.append(subject)\n",
    "\n",
    "dataset = tio.SubjectsDataset(subjects)\n",
    "print('Dataset size:', len(dataset), 'subjects')"
   ]
  },
  {
   "cell_type": "code",
   "execution_count": null,
   "metadata": {},
   "outputs": [],
   "source": [
    "example = dataset[0]"
   ]
  },
  {
   "cell_type": "code",
   "execution_count": null,
   "metadata": {},
   "outputs": [],
   "source": [
    "landmarks_dict = {'mri': landmarks}\n",
    "histogram_transform = tio.HistogramStandardization(landmarks_dict)\n",
    "\n",
    "transformed = histogram_transform(example)\n"
   ]
  },
  {
   "cell_type": "code",
   "execution_count": null,
   "metadata": {},
   "outputs": [],
   "source": [
    "# plot before and after\n",
    "def plot_histogram(axis, values, num_positions=100, label=None, alpha=0.05, color=None):\n",
    "    kernel = stats.gaussian_kde(values)\n",
    "    positions = np.linspace(values.min(), values.max(), num=num_positions)\n",
    "    histogram = kernel(positions)\n",
    "    kwargs = dict(linewidth=1, color='black' if color is None else color, alpha=alpha)\n",
    "    if label is not None:\n",
    "        kwargs['label'] = label\n",
    "    axis.plot(positions, histogram, **kwargs)\n",
    "\n",
    "fig, ax = plt.subplots()\n",
    "#plot_histogram(ax, example.mri.data, label='Original', alpha=0.5, color='red')\n",
    "plot_histogram(ax, transformed.mri.data.numpy().ravel(), label='Standardized', alpha=0.5, color='blue')"
   ]
  },
  {
   "cell_type": "markdown",
   "metadata": {},
   "source": [
    "### Plot all the histograms for the train data before and after the transformation"
   ]
  },
  {
   "cell_type": "code",
   "execution_count": null,
   "metadata": {},
   "outputs": [],
   "source": [
    "fig, ax = plt.subplots(dpi=100)\n",
    "for path in tqdm(files):\n",
    "    tensor = tio.ScalarImage(path).data\n",
    "    values = tensor.numpy().ravel()\n",
    "\n",
    "    # get sample of values\n",
    "    sample = np.random.choice(values, 100000)\n",
    "    plot_histogram(ax, sample)\n",
    "\n",
    "ax.set_xlabel('Intensity')\n",
    "ax.set_ylabel('Density')\n",
    "ax.set_xlim(0, 0.006)\n",
    "ax.set_ylim(0, 1200)\n",
    "ax.grid()\n",
    "plt.savefig('iwoai_histograms.pdf', format='pdf', bbox_inches='tight')"
   ]
  },
  {
   "cell_type": "code",
   "execution_count": null,
   "metadata": {},
   "outputs": [],
   "source": [
    "fig, ax = plt.subplots(dpi=100)\n",
    "for path in tqdm(files):\n",
    "    image = sitk.ReadImage(path)\n",
    "    image = sitk.GetArrayFromImage(image)\n",
    "\n",
    "    # turn to tio subject\n",
    "    sample = tio.Subject(\n",
    "        mri=tio.ScalarImage(tensor=np.expand_dims(image, axis=0))\n",
    "    )\n",
    "\n",
    "    standard = histogram_transform(sample)\n",
    "    tensor = standard.mri.data\n",
    "    values = tensor.numpy().ravel()\n",
    "\n",
    "    # get sample of values\n",
    "    sample = np.random.choice(values, 100000)\n",
    "    plot_histogram(ax, sample)\n",
    "\n",
    "ax.set_xlabel('Intensity')\n",
    "ax.set_ylabel('Density')\n",
    "ax.set_xlim(0, 150)\n",
    "ax.set_ylim(0, 0.04)\n",
    "ax.grid()\n",
    "plt.savefig('iwoai_transformed_histograms.pdf', format='pdf', bbox_inches='tight')"
   ]
  },
  {
   "cell_type": "code",
   "execution_count": null,
   "metadata": {},
   "outputs": [],
   "source": [
    "# attempt to transform one image when read in as a numpy array\n",
    "image = sitk.ReadImage(files[0])\n",
    "image = sitk.GetArrayFromImage(image)\n",
    "image = image.astype(np.float32)\n",
    "print(image.shape)\n",
    "\n",
    "# turn image into tio subject\n",
    "subject = tio.Subject(\n",
    "    mri=tio.ScalarImage(tensor=np.expand_dims(image, axis=0))\n",
    ")\n",
    "\n",
    "# transform\n",
    "transformed = histogram_transform(subject)\n",
    "\n",
    "transformed_np = transformed.mri.data.numpy()\n",
    "\n",
    "print(transformed_np.shape)"
   ]
  },
  {
   "cell_type": "markdown",
   "metadata": {},
   "source": [
    "### Now let's plot SKM-TEA"
   ]
  },
  {
   "cell_type": "code",
   "execution_count": null,
   "metadata": {},
   "outputs": [],
   "source": [
    "skmtea_path = '../../../nnUNet_data/nnUNet_raw/Dataset361_Menisci/images_all_skmtea/'\n",
    "skmtea_files = glob.glob(skmtea_path + '*')"
   ]
  },
  {
   "cell_type": "code",
   "execution_count": null,
   "metadata": {},
   "outputs": [],
   "source": [
    "skmtea_files.sort()\n",
    "print('Number of files:', len(skmtea_files))\n",
    "skmtea_files[:5]"
   ]
  },
  {
   "cell_type": "code",
   "execution_count": null,
   "metadata": {},
   "outputs": [],
   "source": [
    "# plot skmtea histograms\n",
    "fig, ax = plt.subplots()\n",
    "for path in tqdm(skmtea_files):\n",
    "    image = sitk.ReadImage(path)\n",
    "    image = sitk.GetArrayFromImage(image)\n",
    "    values = image.ravel()\n",
    "\n",
    "    # get sample of values\n",
    "    sample = np.random.choice(values, 100000)\n",
    "    plot_histogram(ax, sample)\n",
    "\n",
    "ax.set_xlabel('Intensity')\n",
    "ax.set_ylabel('Density')\n",
    "ax.set_xlim(0,3000)\n",
    "ax.set_ylim(0,0.004)\n",
    "ax.grid()\n",
    "plt.savefig('skmtea_histograms.pdf', format='pdf', bbox_inches='tight')\n",
    "plt.show()"
   ]
  },
  {
   "cell_type": "code",
   "execution_count": null,
   "metadata": {},
   "outputs": [],
   "source": [
    "# plot transformed skmtea histograms\n",
    "fig, ax = plt.subplots(dpi=100)\n",
    "for path in tqdm(skmtea_files):\n",
    "    image = sitk.ReadImage(path)\n",
    "    image = sitk.GetArrayFromImage(image)\n",
    "\n",
    "    # turn to tio subject\n",
    "    sample = tio.Subject(\n",
    "        mri=tio.ScalarImage(tensor=np.expand_dims(image, axis=0))\n",
    "    )\n",
    "\n",
    "    standard = histogram_transform(sample)\n",
    "    tensor = standard.mri.data\n",
    "    values = tensor.numpy().ravel()\n",
    "\n",
    "    # get sample of values\n",
    "    sample = np.random.choice(values, 100000)\n",
    "    plot_histogram(ax, sample)\n",
    "\n",
    "ax.set_xlabel('Intensity')\n",
    "ax.set_ylabel('Density')\n",
    "ax.set_xlim(0, 150)\n",
    "ax.set_ylim(0, 0.04)\n",
    "ax.grid()\n",
    "plt.savefig('skmtea_transformed_histograms.pdf', format='pdf', bbox_inches='tight')\n",
    "plt.show()"
   ]
  },
  {
   "cell_type": "code",
   "execution_count": null,
   "metadata": {},
   "outputs": [],
   "source": [
    "from src.utils import z_score_norm\n",
    "import matplotlib.lines as mlines\n",
    "\n",
    "# plot both datasets after z-score normalization\n",
    "fig, ax = plt.subplots(dpi=100)\n",
    "for path in tqdm(files):\n",
    "    image = sitk.ReadImage(path)\n",
    "    image = sitk.GetArrayFromImage(image)\n",
    "    image = z_score_norm(image)\n",
    "    values = image.ravel()\n",
    "\n",
    "    # get sample of values\n",
    "    sample = np.random.choice(values, 100000)\n",
    "    plot_histogram(ax, sample, color='red', label='IWOAI')\n",
    "\n",
    "for path in tqdm(skmtea_files):\n",
    "    image = sitk.ReadImage(path)\n",
    "    image = sitk.GetArrayFromImage(image)\n",
    "    image = z_score_norm(image)\n",
    "    values = image.ravel()\n",
    "\n",
    "    # get sample of values\n",
    "    sample = np.random.choice(values, 100000)\n",
    "    plot_histogram(ax, sample, color='blue', label='SKMTEA')\n",
    "\n",
    "ax.set_xlabel('Intensity')\n",
    "ax.set_ylabel('Density')\n",
    "ax.set_xlim(-1.5,3)\n",
    "\n",
    "# Create solid-line legend handles\n",
    "legend_lines = [\n",
    "    mlines.Line2D([], [], color='red', label='IWOAI', linewidth=2, alpha=1.0),\n",
    "    mlines.Line2D([], [], color='blue', label='SKMTEA', linewidth=2, alpha=1.0)\n",
    "]\n",
    "\n",
    "ax.legend(handles=legend_lines)\n",
    "ax.grid()\n",
    "plt.savefig('z_score_all_histograms.pdf', format='pdf', bbox_inches='tight')\n",
    "plt.show()"
   ]
  },
  {
   "cell_type": "code",
   "execution_count": null,
   "metadata": {},
   "outputs": [],
   "source": [
    "# plot both datasets after histogram standardization and z-score normalization\n",
    "fig, ax = plt.subplots(dpi=100)\n",
    "for path in tqdm(files):\n",
    "    image = sitk.ReadImage(path)\n",
    "    image = sitk.GetArrayFromImage(image)\n",
    "    image = image.astype(np.float32)\n",
    "    subject = tio.Subject(\n",
    "        mri=tio.ScalarImage(tensor=np.expand_dims(image, axis=0))\n",
    "    )\n",
    "    transformed = histogram_transform(subject)\n",
    "    values = transformed.mri.data.numpy().ravel()\n",
    "    values = z_score_norm(values)\n",
    "\n",
    "    # get sample of values\n",
    "    sample = np.random.choice(values, 100000)\n",
    "    plot_histogram(ax, sample, color='red')\n",
    "\n",
    "for path in tqdm(skmtea_files):\n",
    "    image = sitk.ReadImage(path)\n",
    "    image = sitk.GetArrayFromImage(image)\n",
    "    image = image.astype(np.float32)\n",
    "    subject = tio.Subject(\n",
    "        mri=tio.ScalarImage(tensor=np.expand_dims(image, axis=0))\n",
    "    )\n",
    "    transformed = histogram_transform(subject)\n",
    "    values = transformed.mri.data.numpy().ravel()\n",
    "    values = z_score_norm(values)\n",
    "\n",
    "    # get sample of values\n",
    "    sample = np.random.choice(values, 100000)\n",
    "    plot_histogram(ax, sample, color='blue')\n",
    "\n",
    "# Create solid-line legend handles\n",
    "legend_lines = [\n",
    "    mlines.Line2D([], [], color='red', label='IWOAI', linewidth=2, alpha=1.0),\n",
    "    mlines.Line2D([], [], color='blue', label='SKMTEA', linewidth=2, alpha=1.0)\n",
    "]\n",
    "\n",
    "ax.legend(handles=legend_lines)\n",
    "ax.grid()\n",
    "ax.set_xlabel('Intensity')\n",
    "ax.set_ylabel('Density')\n",
    "ax.set_xlim(-1.5,3)\n",
    "plt.savefig('transformed_all_histograms.pdf', format='pdf', bbox_inches='tight')\n",
    "plt.show()"
   ]
  },
  {
   "cell_type": "markdown",
   "metadata": {},
   "source": [
    "## Now make full cdf template"
   ]
  },
  {
   "cell_type": "code",
   "execution_count": null,
   "metadata": {},
   "outputs": [],
   "source": [
    "# path to preprocessed data\n",
    "data_path = '../../../nnUNet_data/nnUNet_preprocessed/Dataset361_Menisci/nnUNetPlans_3d_fullres'\n",
    "save_path = '../../../nnUNet_data/nnUNet_preprocessed/Dataset361_Menisci/'\n",
    "\n",
    "# Get all the files in the data path\n",
    "files = glob.glob(data_path + '/*')"
   ]
  },
  {
   "cell_type": "code",
   "execution_count": null,
   "metadata": {},
   "outputs": [],
   "source": [
    "files.sort()\n",
    "print('Number of files:', len(files))\n",
    "files[:5]"
   ]
  },
  {
   "cell_type": "code",
   "execution_count": null,
   "metadata": {},
   "outputs": [],
   "source": [
    "# only need the images (not masks) - files ending with .npy but not with _seg.npy\n",
    "images = [f for f in files if f.endswith('.npy') and not f.endswith('_seg.npy')]\n",
    "print('Number of images:', len(images))\n",
    "images[:5]"
   ]
  },
  {
   "cell_type": "code",
   "execution_count": null,
   "metadata": {},
   "outputs": [],
   "source": [
    "# show slice of first image to check\n",
    "img = np.load(images[0])\n",
    "print('Image shape:', img.shape)\n",
    "plt.imshow(img[0,100,...], cmap='gray')"
   ]
  },
  {
   "cell_type": "code",
   "execution_count": null,
   "metadata": {},
   "outputs": [],
   "source": [
    "# plot histogram of first image\n",
    "plt.hist(img.flatten(), bins=500)\n",
    "plt.ylabel('Frequency')\n",
    "plt.xlabel('Intensity')\n",
    "plt.title('Histogram of image intensities')\n",
    "plt.show()"
   ]
  },
  {
   "cell_type": "code",
   "execution_count": null,
   "metadata": {},
   "outputs": [],
   "source": [
    "# 99.7 percentile of intensities in both directions\n",
    "min = np.percentile(img, 0.15)\n",
    "max = np.percentile(img, 99.85)\n",
    "print('Min:', min)\n",
    "print('Max:', max)"
   ]
  },
  {
   "cell_type": "code",
   "execution_count": null,
   "metadata": {},
   "outputs": [],
   "source": [
    "# plot kde of first image\n",
    "# take smaller random sample\n",
    "sample = np.random.choice(img.flatten(), 100000)\n",
    "sns.kdeplot(sample)\n",
    "plt.ylabel('Density')\n",
    "plt.xlabel('Intensity')\n",
    "plt.title('KDE of image intensities')\n",
    "plt.show()"
   ]
  },
  {
   "cell_type": "markdown",
   "metadata": {},
   "source": [
    "## Cycle Through Each Image, saving histogram (500 bins) and getting average template"
   ]
  },
  {
   "cell_type": "code",
   "execution_count": null,
   "metadata": {},
   "outputs": [],
   "source": [
    "# first find the range of intensities for all images\n",
    "min_intensity = np.inf\n",
    "max_intensity = -np.inf\n",
    "\n",
    "for i in range(len(images)):\n",
    "    img = np.load(images[i])\n",
    "    min_i = img.min()\n",
    "    max_i = img.max()\n",
    "    if min_i < min_intensity:\n",
    "        min_intensity = min_i\n",
    "    if max_i > max_intensity:\n",
    "        max_intensity = max_i\n",
    "\n",
    "print('Min intensity:', min_intensity)\n",
    "print('Max intensity:', max_intensity)"
   ]
  },
  {
   "cell_type": "code",
   "execution_count": null,
   "metadata": {},
   "outputs": [],
   "source": [
    "# choose range as -2 to 10\n",
    "intensity_range = (-2, 10)"
   ]
  },
  {
   "cell_type": "code",
   "execution_count": null,
   "metadata": {},
   "outputs": [],
   "source": [
    "# Get average histogram of all images\n",
    "# initialize average histogram\n",
    "num_bins = 500\n",
    "avg_hist = np.zeros(num_bins)\n",
    "bin_edges = np.linspace(intensity_range[0], intensity_range[1], num_bins+1)\n",
    "\n",
    "# loop through all images, using tqdm to keep track of progress\n",
    "import tqdm\n",
    "for i in tqdm.tqdm(range(len(images))):\n",
    "    # load image\n",
    "    img = np.load(images[i])\n",
    "    # get histogram\n",
    "    hist, _ = np.histogram(img.flatten(), bins=num_bins, range=intensity_range)\n",
    "    # add to average histogram\n",
    "    avg_hist += hist\n",
    "\n",
    "# normalize average histogram\n",
    "avg_hist = avg_hist / len(images)\n",
    "\n",
    "# get bin centres for plotting\n",
    "bin_centres = (bin_edges[:-1] + bin_edges[1:]) / 2\n",
    "\n",
    "# plot average histogram, using sns and overlaying kde\n",
    "sns.histplot(weights=avg_hist, bins=num_bins, x=bin_centres)\n",
    "plt.ylabel('Frequency')\n",
    "plt.xlabel('Intensity')\n",
    "plt.title('Average histogram of image intensities')\n",
    "plt.show()"
   ]
  },
  {
   "cell_type": "code",
   "execution_count": null,
   "metadata": {},
   "outputs": [],
   "source": [
    "# plot hist of average histogram\n",
    "sns.histplot(weights=(avg_hist/np.max(avg_hist)), bins=num_bins, x=bin_centres)\n",
    "# plot kde of average histogram\n",
    "sns.kdeplot(x=bin_centres, weights=avg_hist, bw_adjust=0.2, color='orange')\n",
    "\n",
    "plt.ylabel('Frequency')\n",
    "plt.xlabel('Intensity')\n",
    "plt.title('Average histogram of image intensities')\n",
    "plt.show()"
   ]
  },
  {
   "cell_type": "code",
   "execution_count": null,
   "metadata": {},
   "outputs": [],
   "source": [
    "values = sns.kdeplot(x=bin_centres, weights=avg_hist, bw_adjust=0.2, gridsize=num_bins+1, clip=intensity_range).get_lines()[0].get_data()"
   ]
  },
  {
   "cell_type": "code",
   "execution_count": null,
   "metadata": {},
   "outputs": [],
   "source": [
    "values[0].shape"
   ]
  },
  {
   "cell_type": "code",
   "execution_count": null,
   "metadata": {},
   "outputs": [],
   "source": [
    "# cdf of kde of average histogram\n",
    "av_cdf = np.cumsum(values[1]) / sum(values[1])\n",
    "plt.plot(values[0], av_cdf, color='orange', label='CDF of KDE of average histogram')\n",
    "\n",
    "# also plot the cdf of the average histogram\n",
    "cdf_hist = np.cumsum(avg_hist) / sum(avg_hist)\n",
    "plt.plot(bin_centres, cdf_hist, label='CDF of average histogram')\n",
    "\n",
    "plt.ylabel('CDF')\n",
    "plt.xlabel('Intensity')\n",
    "plt.title('CDF of image intensities')\n",
    "plt.legend()\n",
    "plt.show()"
   ]
  },
  {
   "cell_type": "code",
   "execution_count": null,
   "metadata": {},
   "outputs": [],
   "source": [
    "# plot cdf of first 5 images and the template cdf\n",
    "\n",
    "for i in range(5):\n",
    "    img = np.load(images[i])\n",
    "    hist, _ = np.histogram(img.flatten(), bins=num_bins, range=intensity_range)\n",
    "    cdf = np.cumsum(hist) / sum(hist)\n",
    "    plt.plot(bin_centres, cdf, label='Image ' + str(i))\n",
    "\n",
    "plt.plot(values[0], av_cdf, color='orange', label='CDF of KDE of average histogram')\n",
    "plt.legend()\n",
    "plt.ylabel('CDF')\n",
    "plt.xlabel('Intensity')\n",
    "plt.xlim(-1.5,4)\n",
    "plt.title('CDF of image intensities')\n",
    "plt.show()"
   ]
  },
  {
   "cell_type": "code",
   "execution_count": null,
   "metadata": {},
   "outputs": [],
   "source": [
    "def match_histogram_3d(image, template_cdf, num_bins=500, intensity_range=(-2, 10)):\n",
    "    \"\"\"\n",
    "    Match the histogram of a 3D image to a template histogram (with given number of bins).\n",
    "    \"\"\"\n",
    "    # Flatten the 3D image into a 1D array\n",
    "    img_flat = image.flatten()\n",
    "\n",
    "    # Compute the histogram and CDF for the input image\n",
    "    img_hist, img_bin_edges = np.histogram(img_flat, bins=num_bins, range=intensity_range)\n",
    "    img_cdf = np.cumsum(img_hist) / img_hist.sum()\n",
    "\n",
    "    # Create a mapping from the image CDF to the template CDF\n",
    "    mapping = np.interp(img_cdf, template_cdf, img_bin_edges)\n",
    "\n",
    "    # Apply the mapping to the flattened image\n",
    "    img_matched_flat = np.interp(img_flat, img_bin_edges[:-1], mapping)\n",
    "\n",
    "    # Reshape the matched image back to its original 3D shape\n",
    "    img_matched = img_matched_flat.reshape(image.shape)\n",
    "    \n",
    "    return img_matched"
   ]
  },
  {
   "cell_type": "code",
   "execution_count": null,
   "metadata": {},
   "outputs": [],
   "source": [
    "img = np.load(images[0])\n",
    "matched = match_histogram_3d(img, av_cdf)\n",
    "\n",
    "# plot cdfs of original, matched and template\n",
    "img_flat = img.flatten()\n",
    "img_matched_flat = matched.flatten()\n",
    "\n",
    "img_hist, img_bin_edges = np.histogram(img_flat, bins=num_bins, range=intensity_range)\n",
    "img_cdf = np.cumsum(img_hist) / img_hist.sum()\n",
    "\n",
    "matched_hist, matched_bin_edges = np.histogram(img_matched_flat, bins=num_bins, range=intensity_range)\n",
    "matched_cdf = np.cumsum(matched_hist) / matched_hist.sum()\n",
    "\n",
    "plt.plot(img_bin_edges[:-1], img_cdf, label='Original')\n",
    "plt.plot(matched_bin_edges[:-1], matched_cdf, label='Matched')\n",
    "plt.plot(values[0], av_cdf, label='Template')\n",
    "plt.ylabel('CDF')\n",
    "plt.xlabel('Intensity')\n",
    "plt.xlim(-1.5,4)\n",
    "plt.title('CDF of image intensities')\n",
    "plt.legend()\n",
    "plt.show()"
   ]
  },
  {
   "cell_type": "code",
   "execution_count": null,
   "metadata": {},
   "outputs": [],
   "source": [
    "# plot kdes of original and matched images, as well as the histogram of the template image\n",
    "sample = np.random.choice(img.flatten(), 100000)\n",
    "sns.kdeplot(sample, label='Original')\n",
    "sample_matched = np.random.choice(matched.flatten(), 100000)\n",
    "sns.kdeplot(sample_matched, label='Matched')\n",
    "sns.kdeplot(x=bin_centres, weights=avg_hist, bw_adjust=0.2, label='Average')\n",
    "plt.ylabel('Density')\n",
    "plt.xlim(-2, 5)\n",
    "plt.xlabel('Intensity')\n",
    "plt.title('KDE of image intensities')\n",
    "plt.legend()\n",
    "plt.show()"
   ]
  },
  {
   "cell_type": "code",
   "execution_count": null,
   "metadata": {},
   "outputs": [],
   "source": [
    "# plot slices of original and matched images\n",
    "plt.figure(figsize=(10, 5))\n",
    "plt.subplot(1, 2, 1)\n",
    "plt.imshow(img[0,100,...], cmap='gray', vmin=-2, vmax=5)\n",
    "plt.title('Original')\n",
    "plt.subplot(1, 2, 2)\n",
    "plt.imshow(matched[0,100,...], cmap='gray', vmin=-2, vmax=5)\n",
    "plt.title('Matched')\n",
    "plt.show()"
   ]
  },
  {
   "cell_type": "code",
   "execution_count": null,
   "metadata": {},
   "outputs": [],
   "source": [
    "# Save the template CDF to a file\n",
    "np.save(save_path + 'zscore_template_train_cdf.npy', av_cdf)"
   ]
  },
  {
   "cell_type": "markdown",
   "metadata": {},
   "source": [
    "# Do same with CLAHE images - make template"
   ]
  },
  {
   "cell_type": "code",
   "execution_count": null,
   "metadata": {},
   "outputs": [],
   "source": [
    "clahe_path = '../../../nnUNet_data/nnUNet_preprocessed/Dataset361_Menisci/3d_fullres_clahe'"
   ]
  },
  {
   "cell_type": "code",
   "execution_count": null,
   "metadata": {},
   "outputs": [],
   "source": [
    "def get_file_paths(data_path):\n",
    "    \"\"\"\n",
    "    Get the file paths for all the images in the data path.\n",
    "    \"\"\"\n",
    "    # Get all the files in the data path\n",
    "    files = glob.glob(data_path + '/*')\n",
    "    files.sort()\n",
    "\n",
    "    # Only need the images (not masks) - files ending with .npy but not with _seg.npy\n",
    "    images = [f for f in files if f.endswith('.npy') and not f.endswith('_seg.npy')]\n",
    "    \n",
    "    return images"
   ]
  },
  {
   "cell_type": "code",
   "execution_count": null,
   "metadata": {},
   "outputs": [],
   "source": [
    "clahe_images = get_file_paths(clahe_path)"
   ]
  },
  {
   "cell_type": "code",
   "execution_count": null,
   "metadata": {},
   "outputs": [],
   "source": [
    "# check range of intensities in clahe images\n",
    "min_intensity = np.inf\n",
    "max_intensity = -np.inf\n",
    "\n",
    "for i in range(len(clahe_images)):\n",
    "    img = np.load(clahe_images[i])\n",
    "    min_i = img.min()\n",
    "    max_i = img.max()\n",
    "    if min_i < min_intensity:\n",
    "        min_intensity = min_i\n",
    "    if max_i > max_intensity:\n",
    "        max_intensity = max_i\n",
    "\n",
    "print('Min intensity:', min_intensity)\n",
    "print('Max intensity:', max_intensity)"
   ]
  },
  {
   "cell_type": "code",
   "execution_count": null,
   "metadata": {},
   "outputs": [],
   "source": [
    "# choose range\n",
    "intensity_range = (0, 1)"
   ]
  },
  {
   "cell_type": "code",
   "execution_count": null,
   "metadata": {},
   "outputs": [],
   "source": [
    "# make template cdf\n",
    "def get_data_template(images, intensity_range, num_bins=500):\n",
    "    \"\"\"\n",
    "    Get the template CDF for the data.\n",
    "    \"\"\"\n",
    "    # Initialize average histogram\n",
    "    avg_hist = np.zeros(num_bins)\n",
    "    bin_edges = np.linspace(intensity_range[0], intensity_range[1], num_bins+1)\n",
    "\n",
    "    # Loop through all images\n",
    "    for i in tqdm.tqdm(range(len(images))):\n",
    "        # Load image\n",
    "        img = np.load(images[i])\n",
    "        # Get histogram\n",
    "        hist, _ = np.histogram(img.flatten(), bins=num_bins, range=intensity_range)\n",
    "        # Add to average histogram\n",
    "        avg_hist += hist\n",
    "\n",
    "    # Normalize average histogram\n",
    "    avg_hist = avg_hist / len(images)\n",
    "\n",
    "    # Get bin centres for plotting\n",
    "    bin_centres = (bin_edges[:-1] + bin_edges[1:]) / 2\n",
    "\n",
    "    # Get KDE of average histogram\n",
    "    values = sns.kdeplot(x=bin_centres, weights=avg_hist, bw_adjust=0.2, gridsize=num_bins+1, clip=intensity_range).get_lines()[0].get_data()\n",
    "\n",
    "    # Get CDF of KDE of average histogram\n",
    "    av_cdf = np.cumsum(values[1]) / sum(values[1])\n",
    "    \n",
    "    return avg_hist, av_cdf"
   ]
  },
  {
   "cell_type": "code",
   "execution_count": null,
   "metadata": {},
   "outputs": [],
   "source": [
    "# get clahe template cdf\n",
    "clahe_template_hist, clahe_template_cdf = get_data_template(clahe_images, intensity_range)"
   ]
  },
  {
   "cell_type": "code",
   "execution_count": null,
   "metadata": {},
   "outputs": [],
   "source": [
    "# plot clahe histogram and cdf\n",
    "bin_edges = np.linspace(0, 1, 501)\n",
    "bin_centres = (bin_edges[:-1] + bin_edges[1:]) / 2\n",
    "sns.histplot(weights=(clahe_template_hist) / np.max(clahe_template_hist), bins=500, x=bin_centres, label='Histogram')\n",
    "plt.plot(bin_edges, clahe_template_cdf, label='CDF', color='orange', lw=2)\n",
    "plt.ylabel('Frequency')\n",
    "plt.xlabel('Intensity')\n",
    "plt.title('Histogram and CDF of CLAHE image intensities')"
   ]
  },
  {
   "cell_type": "code",
   "execution_count": null,
   "metadata": {},
   "outputs": [],
   "source": [
    "# Save the template clahe CDF to a file\n",
    "np.save(save_path + 'clahe_template_train_cdf.npy', clahe_template_cdf)"
   ]
  },
  {
   "cell_type": "code",
   "execution_count": null,
   "metadata": {},
   "outputs": [],
   "source": [
    "# clahe cdf vs zscore cdf\n",
    "plt.plot(bin_edges, clahe_template_cdf, label='CLAHE', color='orange')\n",
    "plt.plot(bin_edges, av_cdf, label='Z-score', color='blue')\n",
    "plt.ylabel('CDF')\n",
    "plt.xlabel('Intensity')\n",
    "plt.title('CDF of image intensities')\n",
    "plt.legend()"
   ]
  },
  {
   "cell_type": "code",
   "execution_count": null,
   "metadata": {},
   "outputs": [],
   "source": []
  }
 ],
 "metadata": {
  "kernelspec": {
   "display_name": "Python (nnunet)",
   "language": "python",
   "name": "nnunet"
  },
  "language_info": {
   "codemirror_mode": {
    "name": "ipython",
    "version": 3
   },
   "file_extension": ".py",
   "mimetype": "text/x-python",
   "name": "python",
   "nbconvert_exporter": "python",
   "pygments_lexer": "ipython3",
   "version": "3.10.4"
  }
 },
 "nbformat": 4,
 "nbformat_minor": 4
}
