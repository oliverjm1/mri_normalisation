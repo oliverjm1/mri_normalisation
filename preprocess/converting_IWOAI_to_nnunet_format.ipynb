{
 "cells": [
  {
   "cell_type": "code",
   "execution_count": null,
   "metadata": {},
   "outputs": [],
   "source": [
    "import SimpleITK as sitk\n",
    "import numpy as np\n",
    "import os\n",
    "import h5py\n",
    "import matplotlib.pyplot as plt\n",
    "import glob\n",
    "import sys\n",
    "sys.path.append('../..')\n",
    "from src.utils import crop_im"
   ]
  },
  {
   "cell_type": "code",
   "execution_count": null,
   "metadata": {},
   "outputs": [],
   "source": [
    "# Let's read in the example OAI image series to have a look at the metadata\n",
    "\n",
    "# Load the image\n",
    "oai_folder_path = '../../data/test_OAI_im/dicom_series/'\n",
    "reader = sitk.ImageSeriesReader()\n",
    "dicom_names = reader.GetGDCMSeriesFileNames(oai_folder_path)\n",
    "reader.SetFileNames(dicom_names)\n",
    "oai_volume = reader.Execute()\n",
    "\n",
    "# Get the metadata\n",
    "print(\"Image size:\", oai_volume.GetSize())\n",
    "print(\"Spacing (x, y, z):\", oai_volume.GetSpacing())  # Includes pixel spacing and slice thickness\n",
    "print(\"Origin:\", oai_volume.GetOrigin())\n",
    "print(\"Direction:\", oai_volume.GetDirection())"
   ]
  },
  {
   "cell_type": "code",
   "execution_count": null,
   "metadata": {},
   "outputs": [],
   "source": [
    "# plot the 100th slice\n",
    "slice = sitk.GetArrayFromImage(oai_volume)[100, :, :]\n",
    "plt.imshow(slice, cmap='gray', vmax=np.percentile(slice, 99.9))"
   ]
  },
  {
   "cell_type": "code",
   "execution_count": null,
   "metadata": {},
   "outputs": [],
   "source": [
    "# Now load the already-converted .nii.gz file\n",
    "nii_path = '../../data/nnUNet_raw/Dataset361_Menisci/imagesTr/IWOAI_001_0000.nii.gz'\n",
    "nii_volume = sitk.ReadImage(nii_path)\n",
    "\n",
    "# Get the metadata\n",
    "print(\"Image size:\", nii_volume.GetSize())\n",
    "print(\"Spacing (x, y, z):\", nii_volume.GetSpacing())  # Includes pixel spacing and slice thickness\n",
    "print(\"Origin:\", nii_volume.GetOrigin())\n",
    "print(\"Direction:\", nii_volume.GetDirection())\n"
   ]
  },
  {
   "cell_type": "markdown",
   "metadata": {},
   "source": [
    "## only spacing was set - as 0.365, 0.365, 0.7"
   ]
  },
  {
   "cell_type": "code",
   "execution_count": null,
   "metadata": {},
   "outputs": [],
   "source": [
    "# Get slice 100\n",
    "slice = sitk.GetArrayFromImage(nii_volume)[100, :, :]\n",
    "\n",
    "# Plot the slice\n",
    "plt.imshow(slice, cmap='gray')"
   ]
  },
  {
   "cell_type": "code",
   "execution_count": null,
   "metadata": {},
   "outputs": [],
   "source": [
    "# Look at how dimensions of numpy array are ordered\n",
    "np_volume = sitk.GetArrayFromImage(nii_volume)\n",
    "print(\"Numpy array shape:\", np_volume.shape)"
   ]
  },
  {
   "cell_type": "code",
   "execution_count": null,
   "metadata": {},
   "outputs": [],
   "source": [
    "# Ok now load in original training image to compare\n",
    "original_path = '../../data/IWOAI/train/train_001_V00.im'\n",
    "\n",
    "# read in to numpy array using h5py\n",
    "with h5py.File(original_path, 'r') as f:\n",
    "    original_volume = np.array(f['data'])\n"
   ]
  },
  {
   "cell_type": "code",
   "execution_count": null,
   "metadata": {},
   "outputs": [],
   "source": [
    "# look at shape\n",
    "print(\"Original shape:\", original_volume.shape)"
   ]
  },
  {
   "cell_type": "code",
   "execution_count": null,
   "metadata": {},
   "outputs": [],
   "source": [
    "# do cropping transformation\n",
    "cropped_original = crop_im(original_volume)"
   ]
  },
  {
   "cell_type": "code",
   "execution_count": null,
   "metadata": {},
   "outputs": [],
   "source": [
    "# plot the 100th slice\n",
    "cropped_slice = cropped_original[:, :, 100]\n",
    "plt.imshow(cropped_slice, cmap='gray')"
   ]
  },
  {
   "cell_type": "code",
   "execution_count": null,
   "metadata": {},
   "outputs": [],
   "source": [
    "# check all elements of both slices are the same\n",
    "print(np.allclose(slice, cropped_slice))"
   ]
  },
  {
   "cell_type": "code",
   "execution_count": null,
   "metadata": {},
   "outputs": [],
   "source": [
    "# reorder dimensions of original volume, moving slice axis to front\n",
    "reordered_original = np.moveaxis(cropped_original, -1, 0)"
   ]
  },
  {
   "cell_type": "code",
   "execution_count": null,
   "metadata": {},
   "outputs": [],
   "source": [
    "reordered_original.shape"
   ]
  },
  {
   "cell_type": "code",
   "execution_count": null,
   "metadata": {},
   "outputs": [],
   "source": [
    "# turn reordered original into sitk image\n",
    "reordered_original_sitk = sitk.GetImageFromArray(reordered_original)\n",
    "\n",
    "# check it is equal to nii volume \n",
    "np.array_equal(sitk.GetArrayFromImage(reordered_original_sitk), np_volume)"
   ]
  },
  {
   "cell_type": "code",
   "execution_count": null,
   "metadata": {},
   "outputs": [],
   "source": [
    "# set metadata of reordered original to be the same as nii volume\n",
    "reordered_original_sitk.SetSpacing((0.365, 0.365, 0.70))"
   ]
  },
  {
   "cell_type": "code",
   "execution_count": null,
   "metadata": {},
   "outputs": [],
   "source": [
    "reordered_original_sitk.GetSpacing()"
   ]
  },
  {
   "cell_type": "markdown",
   "metadata": {},
   "source": [
    "## Now transform test images and masks, and save in imagesTs and labelsTs"
   ]
  },
  {
   "cell_type": "code",
   "execution_count": null,
   "metadata": {},
   "outputs": [],
   "source": [
    "# data directory path\n",
    "nnunet_data_dir = '../../data/nnUNet_raw/Dataset361_Menisci/'\n",
    "\n",
    "# make labelsTs dir\n",
    "os.makedirs(nnunet_data_dir + 'labelsTs', exist_ok=True)\n",
    "\n",
    "# Get IWOAI test image and mask paths as sorted numpy arrays\n",
    "test_image_dir = '../../data/IWOAI/test/'\n",
    "test_mask_dir = '../../data/IWOAI/ground-truth/'\n",
    "\n",
    "test_images = np.sort(np.array(glob.glob(test_image_dir + '*.im')))\n",
    "test_masks = np.sort(np.array(glob.glob(test_mask_dir + '*.npy')))"
   ]
  },
  {
   "cell_type": "code",
   "execution_count": null,
   "metadata": {},
   "outputs": [],
   "source": [
    "# Write full loop to convert all test images and masks to .nii.gz format\n",
    "# Then input spacing metadata\n",
    "# Save to nnUNet_raw/Dataset361_Menisci/imagesTs and labelsTs\n",
    "image_save_path = nnunet_data_dir + 'imagesTs/'\n",
    "mask_save_path = nnunet_data_dir + 'labelsTs/'\n",
    "spacing = (0.365, 0.365, 0.70)\n",
    "\n",
    "for i in range(len(test_images)):\n",
    "    # Load image\n",
    "    with h5py.File(test_images[i], 'r') as f:\n",
    "        test_image = np.array(f['data'])\n",
    "    \n",
    "    # Load mask, taking only the last mask\n",
    "    test_mask = np.load(test_masks[i])[..., -1]\n",
    "    \n",
    "    # Crop image and mask\n",
    "    cropped_image = crop_im(test_image)\n",
    "    cropped_mask = crop_im(test_mask)\n",
    "    \n",
    "    # Reorder dimensions\n",
    "    reordered_image = np.moveaxis(cropped_image, -1, 0)\n",
    "    reordered_mask = np.moveaxis(cropped_mask, -1, 0)\n",
    "    \n",
    "    # Turn into sitk image\n",
    "    sitk_image = sitk.GetImageFromArray(reordered_image)\n",
    "    sitk_mask = sitk.GetImageFromArray(reordered_mask)\n",
    "    \n",
    "    # Set spacing\n",
    "    sitk_image.SetSpacing(spacing)\n",
    "    sitk_mask.SetSpacing(spacing)\n",
    "    \n",
    "    # Save image, padding number to always be 3 digits using zeros to the left\n",
    "    sitk.WriteImage(sitk_image, image_save_path + f'IWOAI_{str(i+1).zfill(3)}_0000.nii.gz')\n",
    "    \n",
    "    # Save mask\n",
    "    sitk.WriteImage(sitk_mask, mask_save_path + f'IWOAI_{str(i+1).zfill(3)}.nii.gz')"
   ]
  },
  {
   "cell_type": "code",
   "execution_count": null,
   "metadata": {},
   "outputs": [],
   "source": [
    "# check that the images and masks have been saved correctly by loading the first case of each\n",
    "first_image = sitk.ReadImage(image_save_path + 'IWOAI_001_0000.nii.gz')\n",
    "first_mask = sitk.ReadImage(mask_save_path + 'IWOAI_001.nii.gz')\n",
    "\n",
    "# check that the spacing is correct\n",
    "print(first_image.GetSpacing())\n",
    "print(first_mask.GetSpacing())\n",
    "\n",
    "# check that the shapes are correct\n",
    "print(sitk.GetArrayFromImage(first_image).shape)\n",
    "print(sitk.GetArrayFromImage(first_mask).shape)\n",
    "\n",
    "# plot slice 100 of both\n",
    "plt.imshow(sitk.GetArrayFromImage(first_image)[100, :, :], cmap='gray')\n",
    "plt.show()\n",
    "plt.imshow(sitk.GetArrayFromImage(first_mask)[100, :, :], cmap='gray')\n",
    "plt.show()"
   ]
  },
  {
   "cell_type": "code",
   "execution_count": null,
   "metadata": {},
   "outputs": [],
   "source": []
  }
 ],
 "metadata": {
  "kernelspec": {
   "display_name": "Python 3 (ipykernel)",
   "language": "python",
   "name": "python3"
  },
  "language_info": {
   "codemirror_mode": {
    "name": "ipython",
    "version": 3
   },
   "file_extension": ".py",
   "mimetype": "text/x-python",
   "name": "python",
   "nbconvert_exporter": "python",
   "pygments_lexer": "ipython3",
   "version": "3.10.9"
  }
 },
 "nbformat": 4,
 "nbformat_minor": 4
}
