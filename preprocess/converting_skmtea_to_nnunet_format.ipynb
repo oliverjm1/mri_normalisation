{
 "cells": [
  {
   "cell_type": "code",
   "execution_count": null,
   "metadata": {},
   "outputs": [],
   "source": [
    "import SimpleITK as sitk\n",
    "import numpy as np\n",
    "import os\n",
    "import json\n",
    "import h5py\n",
    "import matplotlib.pyplot as plt\n",
    "import glob\n",
    "import pandas as pd\n",
    "import sys\n",
    "sys.path.append('../..')\n",
    "from src.skmtea_utils import *"
   ]
  },
  {
   "cell_type": "code",
   "execution_count": null,
   "metadata": {},
   "outputs": [],
   "source": [
    "# Load the already-converted .nii.gz file\n",
    "nii_path = '../../data/nnUNet_raw/Dataset361_Menisci/imagesTr/IWOAI_001_0000.nii.gz'\n",
    "nii_volume = sitk.ReadImage(nii_path)\n",
    "\n",
    "# Get the metadata\n",
    "print(\"Image size:\", nii_volume.GetSize())\n",
    "print(\"Spacing (x, y, z):\", nii_volume.GetSpacing())  # Includes pixel spacing and slice thickness\n",
    "print(\"Origin:\", nii_volume.GetOrigin())\n",
    "print(\"Direction:\", nii_volume.GetDirection())"
   ]
  },
  {
   "cell_type": "code",
   "execution_count": null,
   "metadata": {},
   "outputs": [],
   "source": [
    "# Length of oai image in mm\n",
    "384*0.365"
   ]
  },
  {
   "cell_type": "code",
   "execution_count": null,
   "metadata": {},
   "outputs": [],
   "source": [
    "# Length of skmtea image in mm\n",
    "512*0.31"
   ]
  },
  {
   "cell_type": "code",
   "execution_count": null,
   "metadata": {},
   "outputs": [],
   "source": [
    "# Can see that skmtea images were taken with a smaller voxel size but spanned larger area\n",
    "# Might need to work out how to crop the same area from the skmtea images"
   ]
  },
  {
   "cell_type": "markdown",
   "metadata": {},
   "source": [
    "## only spacing was set - as 0.365, 0.365, 0.7"
   ]
  },
  {
   "cell_type": "code",
   "execution_count": null,
   "metadata": {},
   "outputs": [],
   "source": [
    "# Get slice 100\n",
    "slice = sitk.GetArrayFromImage(nii_volume)[100, :, :]\n",
    "\n",
    "# Plot the slice\n",
    "plt.imshow(slice, cmap='gray')"
   ]
  },
  {
   "cell_type": "code",
   "execution_count": null,
   "metadata": {},
   "outputs": [],
   "source": [
    "# Look at how dimensions of numpy array are ordered\n",
    "np_volume = sitk.GetArrayFromImage(nii_volume)\n",
    "print(\"Numpy array shape:\", np_volume.shape)"
   ]
  },
  {
   "cell_type": "markdown",
   "metadata": {},
   "source": [
    "## Get SKMTEA TEST PATHS"
   ]
  },
  {
   "cell_type": "code",
   "execution_count": null,
   "metadata": {},
   "outputs": [],
   "source": [
    "# Define data path to the images\n",
    "DATA_DIR = '../../../../skmtea/qdess/v1-release/image_files/'\n",
    "\n",
    "# annotations path\n",
    "ann_dir_path = DATA_DIR + '../annotations/v1.0.0/'\n",
    "\n",
    "# Path to the JSON file\n",
    "file_path = \"test.json\"\n",
    "\n",
    "# Open and load the JSON file\n",
    "with open(ann_dir_path + file_path, \"r\") as file:\n",
    "    data = json.load(file)\n",
    "\n",
    "# Access each part of the JSON structure\n",
    "info = data[\"info\"]\n",
    "categories = data[\"categories\"]\n",
    "images = data[\"images\"]\n",
    "annotations = data[\"annotations\"]\n",
    "\n",
    "test_ims_df = pd.DataFrame(images)\n",
    "test_ims_df.head()"
   ]
  },
  {
   "cell_type": "code",
   "execution_count": null,
   "metadata": {},
   "outputs": [],
   "source": [
    "# get paths to the images\n",
    "image_paths = test_ims_df['file_name'].to_numpy()\n",
    "print(image_paths.shape)\n",
    "\n",
    "# get spacing of image (all are the same)\n",
    "spacing = test_ims_df['voxel_spacing'][0]\n",
    "print(spacing)"
   ]
  },
  {
   "cell_type": "code",
   "execution_count": null,
   "metadata": {},
   "outputs": [],
   "source": [
    "# test by loading the first image\n",
    "im, seg = get_skmtea_im_and_seg(image_paths[0], DATA_DIR)"
   ]
  },
  {
   "cell_type": "code",
   "execution_count": null,
   "metadata": {},
   "outputs": [],
   "source": [
    "# look at shape\n",
    "print(\"Original shape:\", im.shape)"
   ]
  },
  {
   "cell_type": "code",
   "execution_count": null,
   "metadata": {},
   "outputs": [],
   "source": [
    "# check mask is binary\n",
    "print(np.unique(seg))"
   ]
  },
  {
   "cell_type": "code",
   "execution_count": null,
   "metadata": {},
   "outputs": [],
   "source": [
    "# do cropping transformation\n",
    "cropped_im = skmtea_crop_im(im)"
   ]
  },
  {
   "cell_type": "code",
   "execution_count": null,
   "metadata": {},
   "outputs": [],
   "source": [
    "# plot the 100th slice\n",
    "cropped_slice = cropped_im[:, :, 100]\n",
    "plt.imshow(cropped_slice, cmap='gray')\n",
    "plt.show()\n",
    "\n",
    "plt.imshow(skmtea_crop_im(seg)[:, :, 100], cmap='gray')\n",
    "plt.show()"
   ]
  },
  {
   "cell_type": "code",
   "execution_count": null,
   "metadata": {},
   "outputs": [],
   "source": [
    "# reorder dimensions of original volume, moving slice axis to front\n",
    "reordered_im = np.moveaxis(cropped_im, -1, 0)"
   ]
  },
  {
   "cell_type": "code",
   "execution_count": null,
   "metadata": {},
   "outputs": [],
   "source": [
    "reordered_im.shape"
   ]
  },
  {
   "cell_type": "code",
   "execution_count": null,
   "metadata": {},
   "outputs": [],
   "source": [
    "# turn reordered original into sitk image\n",
    "reordered_im_sitk = sitk.GetImageFromArray(reordered_im)"
   ]
  },
  {
   "cell_type": "code",
   "execution_count": null,
   "metadata": {},
   "outputs": [],
   "source": [
    "# set metadata of reordered original to be the same as nii volume\n",
    "reordered_im_sitk.SetSpacing(spacing)"
   ]
  },
  {
   "cell_type": "code",
   "execution_count": null,
   "metadata": {},
   "outputs": [],
   "source": [
    "reordered_im_sitk.GetSpacing()"
   ]
  },
  {
   "cell_type": "code",
   "execution_count": null,
   "metadata": {},
   "outputs": [],
   "source": [
    "reordered_im_sitk.GetSize()"
   ]
  },
  {
   "cell_type": "markdown",
   "metadata": {},
   "source": [
    "## Now transform test images and masks, and save in imagesTs and labelsTs"
   ]
  },
  {
   "cell_type": "code",
   "execution_count": null,
   "metadata": {},
   "outputs": [],
   "source": [
    "# data directory path\n",
    "nnunet_data_dir = '../../data/nnUNet_raw/Dataset361_Menisci/'\n",
    "\n",
    "# make imagesTsExt and labelsTsExt dirs\n",
    "os.makedirs(nnunet_data_dir + 'imagesTs_skmtea', exist_ok=True)\n",
    "os.makedirs(nnunet_data_dir + 'labelsTs_skmtea', exist_ok=True)"
   ]
  },
  {
   "cell_type": "code",
   "execution_count": null,
   "metadata": {},
   "outputs": [],
   "source": [
    "# Write full loop to convert all test images and masks to .nii.gz format\n",
    "# Then input spacing metadata\n",
    "# Save to nnUNet_raw/Dataset361_Menisci/imagesTs and labelsTs\n",
    "image_save_path = nnunet_data_dir + 'imagesTs_skmtea/'\n",
    "mask_save_path = nnunet_data_dir + 'labelsTs_skmtea/'\n",
    "\n",
    "for i in range(len(image_paths)):\n",
    "    # Load image\n",
    "    test_image, test_mask = get_skmtea_im_and_seg(image_paths[i], DATA_DIR)\n",
    "    \n",
    "    # Crop image and mask\n",
    "    cropped_image = skmtea_crop_im(test_image)\n",
    "    cropped_mask = skmtea_crop_im(test_mask)\n",
    "    \n",
    "    # Reorder dimensions\n",
    "    reordered_image = np.moveaxis(cropped_image, -1, 0)\n",
    "    reordered_mask = np.moveaxis(cropped_mask, -1, 0)\n",
    "    \n",
    "    # Turn into sitk image\n",
    "    sitk_image = sitk.GetImageFromArray(reordered_image)\n",
    "    sitk_mask = sitk.GetImageFromArray(reordered_mask)\n",
    "    \n",
    "    # Set spacing\n",
    "    sitk_image.SetSpacing(spacing)\n",
    "    sitk_mask.SetSpacing(spacing)\n",
    "    \n",
    "    # Save image, padding number to always be 3 digits using zeros to the left\n",
    "    sitk.WriteImage(sitk_image, image_save_path + f'SKMTEA_{str(i+1).zfill(3)}_0000.nii.gz')\n",
    "    \n",
    "    # Save mask\n",
    "    sitk.WriteImage(sitk_mask, mask_save_path + f'SKMTEA_{str(i+1).zfill(3)}.nii.gz')"
   ]
  },
  {
   "cell_type": "code",
   "execution_count": null,
   "metadata": {},
   "outputs": [],
   "source": [
    "# check that the images and masks have been saved correctly by loading the first case of each\n",
    "first_image = sitk.ReadImage(image_save_path + 'SKMTEA_001_0000.nii.gz')\n",
    "first_mask = sitk.ReadImage(mask_save_path + 'SKMTEA_001.nii.gz')\n",
    "\n",
    "# check that the spacing is correct\n",
    "print(first_image.GetSpacing())\n",
    "print(first_mask.GetSpacing())\n",
    "\n",
    "# check that the shapes are correct\n",
    "print(sitk.GetArrayFromImage(first_image).shape)\n",
    "print(sitk.GetArrayFromImage(first_mask).shape)\n",
    "\n",
    "# plot slice 100 of both\n",
    "plt.imshow(sitk.GetArrayFromImage(first_image)[100, :, :], cmap='gray')\n",
    "plt.show()\n",
    "plt.imshow(sitk.GetArrayFromImage(first_mask)[100, :, :], cmap='gray')\n",
    "plt.show()"
   ]
  },
  {
   "cell_type": "code",
   "execution_count": null,
   "metadata": {},
   "outputs": [],
   "source": [
    "# check pixel value type\n",
    "print(sitk.GetArrayFromImage(first_image).dtype)\n",
    "\n",
    "# print pixel value\n",
    "print(sitk.GetArrayFromImage(first_image)[100, 100, 100].astype(np.float32))"
   ]
  },
  {
   "cell_type": "code",
   "execution_count": null,
   "metadata": {},
   "outputs": [],
   "source": [
    "# check pixel value type of previous nii image\n",
    "print(np_volume.dtype)\n",
    "\n",
    "# print pixel value\n",
    "print(np_volume[100, 100, 100])"
   ]
  },
  {
   "cell_type": "code",
   "execution_count": null,
   "metadata": {},
   "outputs": [],
   "source": [
    "# Let's do the same for all images\n",
    "def get_paths_from_json(json_path):\n",
    "    with open(json_path, \"r\") as file:\n",
    "        data = json.load(file)\n",
    "    images_df = pd.DataFrame(data[\"images\"])\n",
    "    image_paths = images_df['file_name'].to_numpy()\n",
    "    return image_paths"
   ]
  },
  {
   "cell_type": "code",
   "execution_count": null,
   "metadata": {},
   "outputs": [],
   "source": [
    "file_paths = ['train.json', 'val.json', 'test.json']\n",
    "\n",
    "# return paths from each json and concatenate\n",
    "all_image_paths = np.array([])\n",
    "\n",
    "for file_path in file_paths:\n",
    "    image_paths = get_paths_from_json(ann_dir_path + file_path)\n",
    "    all_image_paths = np.concatenate((all_image_paths, image_paths))\n",
    "\n",
    "# check that the number of images is correct\n",
    "print(len(all_image_paths))\n",
    "# sort the paths\n",
    "all_image_paths = np.sort(all_image_paths)"
   ]
  },
  {
   "cell_type": "code",
   "execution_count": null,
   "metadata": {},
   "outputs": [],
   "source": [
    "# data directory path\n",
    "nnunet_data_dir = '../../data/nnUNet_raw/Dataset361_Menisci/'\n",
    "\n",
    "# make imagesTsExt and labelsTsExt dirs\n",
    "os.makedirs(nnunet_data_dir + 'images_all_skmtea', exist_ok=True)\n",
    "os.makedirs(nnunet_data_dir + 'labels_all_skmtea', exist_ok=True)"
   ]
  },
  {
   "cell_type": "code",
   "execution_count": null,
   "metadata": {},
   "outputs": [],
   "source": [
    "# Write full loop to convert all test images and masks to .nii.gz format\n",
    "# Then input spacing metadata\n",
    "# Save to nnUNet_raw/Dataset361_Menisci/imagesTs and labelsTs\n",
    "image_save_path = nnunet_data_dir + 'images_all_skmtea/'\n",
    "mask_save_path = nnunet_data_dir + 'labels_all_skmtea/'\n",
    "\n",
    "from tqdm import tqdm\n",
    "\n",
    "for i in tqdm(range(len(all_image_paths))):\n",
    "    # Load image\n",
    "    test_image, test_mask = get_skmtea_im_and_seg(all_image_paths[i], DATA_DIR)\n",
    "    \n",
    "    # Crop image and mask\n",
    "    cropped_image = skmtea_crop_im(test_image)\n",
    "    cropped_mask = skmtea_crop_im(test_mask)\n",
    "    \n",
    "    # Reorder dimensions\n",
    "    reordered_image = np.moveaxis(cropped_image, -1, 0)\n",
    "    reordered_mask = np.moveaxis(cropped_mask, -1, 0)\n",
    "    \n",
    "    # Turn into sitk image\n",
    "    sitk_image = sitk.GetImageFromArray(reordered_image)\n",
    "    sitk_mask = sitk.GetImageFromArray(reordered_mask)\n",
    "    \n",
    "    # Set spacing\n",
    "    sitk_image.SetSpacing(spacing)\n",
    "    sitk_mask.SetSpacing(spacing)\n",
    "    \n",
    "    # Save image, padding number to always be 3 digits using zeros to the left\n",
    "    sitk.WriteImage(sitk_image, image_save_path + f'SKMTEA_{str(i+1).zfill(3)}_0000.nii.gz')\n",
    "    \n",
    "    # Save mask\n",
    "    sitk.WriteImage(sitk_mask, mask_save_path + f'SKMTEA_{str(i+1).zfill(3)}.nii.gz')"
   ]
  },
  {
   "cell_type": "code",
   "execution_count": null,
   "metadata": {},
   "outputs": [],
   "source": [
    "# check that the images and masks have been saved correctly by loading the first case of each\n",
    "first_image = sitk.ReadImage(image_save_path + 'SKMTEA_001_0000.nii.gz')\n",
    "first_mask = sitk.ReadImage(mask_save_path + 'SKMTEA_001.nii.gz')\n",
    "\n",
    "# check that the spacing is correct\n",
    "print(first_image.GetSpacing())\n",
    "print(first_mask.GetSpacing())\n",
    "\n",
    "# check that the shapes are correct\n",
    "print(sitk.GetArrayFromImage(first_image).shape)\n",
    "print(sitk.GetArrayFromImage(first_mask).shape)\n",
    "\n",
    "# plot slice 100 of both side by side\n",
    "fig, ax = plt.subplots(1, 2, figsize=(10, 5))\n",
    "ax[0].imshow(sitk.GetArrayFromImage(first_image)[100, :, :], cmap='gray')\n",
    "ax[1].imshow(sitk.GetArrayFromImage(first_mask)[100, :, :], cmap='gray')\n",
    "plt.show()"
   ]
  }
 ],
 "metadata": {
  "kernelspec": {
   "display_name": "base",
   "language": "python",
   "name": "python3"
  },
  "language_info": {
   "codemirror_mode": {
    "name": "ipython",
    "version": 3
   },
   "file_extension": ".py",
   "mimetype": "text/x-python",
   "name": "python",
   "nbconvert_exporter": "python",
   "pygments_lexer": "ipython3",
   "version": "3.9.18"
  }
 },
 "nbformat": 4,
 "nbformat_minor": 2
}
